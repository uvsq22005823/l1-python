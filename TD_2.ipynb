{
  "nbformat": 4,
  "nbformat_minor": 0,
  "metadata": {
    "colab": {
      "name": "TD 2.ipynb",
      "provenance": [],
      "authorship_tag": "ABX9TyMVDvRh20JecO02BuBb/Ek3"
    },
    "kernelspec": {
      "name": "python3",
      "display_name": "Python 3"
    }
  },
  "cells": [
    {
      "cell_type": "code",
      "metadata": {
        "id": "kDpceYVjviFS",
        "outputId": "c5c3b782-c2fa-4a11-f4a3-fcfd1caccafb",
        "colab": {
          "base_uri": "https://localhost:8080/",
          "height": 36
        }
      },
      "source": [
        "num1 = 15\n",
        "num2 = 4\n",
        "if num1%num2 == 0 or num2%num1 == 0:\n",
        "  print(\"Factors!\")\n",
        "else:\n",
        "  print(\"Not factors!\")"
      ],
      "execution_count": 3,
      "outputs": [
        {
          "output_type": "stream",
          "text": [
            "Not factors!\n"
          ],
          "name": "stdout"
        }
      ]
    },
    {
      "cell_type": "code",
      "metadata": {
        "id": "UNryz9pbwMjb",
        "outputId": "e6cf9a95-3d60-4bc7-dece-57f9c39ec991",
        "colab": {
          "base_uri": "https://localhost:8080/",
          "height": 36
        }
      },
      "source": [
        "state = \"Georgia\"\n",
        "if state == \"Georgia\":\n",
        "  print(\"School is cancelled!\")\n",
        "elif state == \"New Jersay\":\n",
        "  print(\"Shool isn't cancelled.\")\n",
        "elif state == \"North California\":\n",
        "  print(\"School is postponed.\")\n",
        "else:\n",
        "  print(\"School status in unknown\")"
      ],
      "execution_count": 4,
      "outputs": [
        {
          "output_type": "stream",
          "text": [
            "School is cancelled!\n"
          ],
          "name": "stdout"
        }
      ]
    },
    {
      "cell_type": "code",
      "metadata": {
        "id": "DIVaY52K0ggH",
        "outputId": "e6ec6d49-3235-4ea0-dbe6-4e3799055296",
        "colab": {
          "base_uri": "https://localhost:8080/",
          "height": 55
        }
      },
      "source": [
        "year = int(input(\"Entrez votre année de naissance : \"))\n",
        "nb = year%12\n",
        "if nb == 0:\n",
        "  print(\"monkey\")\n",
        "if nb == 1:\n",
        "  print(\"rooster\")\n",
        "if nb == 2:\n",
        "  print(\"dog\")  \n",
        "if nb == 3:\n",
        "  print(\"pig\")\n",
        "if nb == 4:\n",
        "  print(\"rat\")\n",
        "if nb == 5:\n",
        "  print(\"ox\")\n",
        "if nb == 6:\n",
        "  print(\"tiger\")\n",
        "if nb == 7:\n",
        "  print(\"rabbit\")\n",
        "if nb == 8:\n",
        "  print(\"dragon\")\n",
        "if nb == 9:\n",
        "  print(\"snake\")\n",
        "if nb == 10:\n",
        "  print(\"horse\")\n",
        "if nb == 11:\n",
        "  print(\"sheep\")"
      ],
      "execution_count": 5,
      "outputs": [
        {
          "output_type": "stream",
          "text": [
            "Entrez votre année de naissance : 2002\n",
            "horse\n"
          ],
          "name": "stdout"
        }
      ]
    },
    {
      "cell_type": "code",
      "metadata": {
        "id": "l_yFPfsj1JCs",
        "outputId": "d93bf7ef-1472-49ef-d652-82e187d39830",
        "colab": {
          "base_uri": "https://localhost:8080/",
          "height": 55
        }
      },
      "source": [
        "temperature = 3.7\n",
        "celsius = False\n",
        "if celsius == True:\n",
        "  if temperature > 0:\n",
        "    print(\"Not freezing\")\n",
        "  else:\n",
        "    print(\"Freezing\")\n",
        "else:\n",
        "  if temperature > 32:\n",
        "    print(\"Not freezing\")\n",
        "  else:\n",
        "    print(\"Freezing\")\n",
        "\n",
        "if temperature <= 0:\n",
        "  print(\"Freezing\")\n",
        "elif temperature <= 32 and celsius == False:\n",
        "  print(\"Freezing\")\n",
        "else:\n",
        "  print(\"Not freezing\")"
      ],
      "execution_count": 9,
      "outputs": [
        {
          "output_type": "stream",
          "text": [
            "Freezing\n",
            "Freezing\n"
          ],
          "name": "stdout"
        }
      ]
    },
    {
      "cell_type": "code",
      "metadata": {
        "id": "jHSFwhuE2kRT",
        "outputId": "46cf85ac-0b77-401e-9080-c09a9e88a40b",
        "colab": {
          "base_uri": "https://localhost:8080/",
          "height": 36
        }
      },
      "source": [
        "A = 2012\n",
        "if A % 4 == 0 and A % 100 != 0:\n",
        "  print(\"bissextile\")\n",
        "elif A % 400 == 0:\n",
        "  print(\"bissextile\")\n",
        "else:\n",
        "  print(\"non\")"
      ],
      "execution_count": 11,
      "outputs": [
        {
          "output_type": "stream",
          "text": [
            "bissextile\n"
          ],
          "name": "stdout"
        }
      ]
    },
    {
      "cell_type": "code",
      "metadata": {
        "id": "CIusargW3AO6",
        "outputId": "cab8ac1a-7408-489a-fa9b-38da6c198eda",
        "colab": {
          "base_uri": "https://localhost:8080/",
          "height": 583
        }
      },
      "source": [
        "n = 1\n",
        "for i in range(10):\n",
        "  print(n)\n",
        "  n = n + 1\n",
        "p = 2\n",
        "for i in range(10):\n",
        "  print(p)\n",
        "  p = p + 2\n",
        "p2 = 1\n",
        "for i in range(20):\n",
        "  if p2 % 2 == 0:\n",
        "    print(p2)\n",
        "  p2 = p2 + 1"
      ],
      "execution_count": 15,
      "outputs": [
        {
          "output_type": "stream",
          "text": [
            "1\n",
            "2\n",
            "3\n",
            "4\n",
            "5\n",
            "6\n",
            "7\n",
            "8\n",
            "9\n",
            "10\n",
            "2\n",
            "4\n",
            "6\n",
            "8\n",
            "10\n",
            "12\n",
            "14\n",
            "16\n",
            "18\n",
            "20\n",
            "2\n",
            "4\n",
            "6\n",
            "8\n",
            "10\n",
            "12\n",
            "14\n",
            "16\n",
            "18\n",
            "20\n"
          ],
          "name": "stdout"
        }
      ]
    },
    {
      "cell_type": "code",
      "metadata": {
        "id": "ZMZAYtlE3bgg",
        "outputId": "717ac4c5-62a5-41e1-86b2-8c1b7f004e94",
        "colab": {
          "base_uri": "https://localhost:8080/",
          "height": 111
        }
      },
      "source": [
        "nb = int(input(\"Combien de nombres voulez-vous ?\\n\"))\n",
        "n = 0\n",
        "for i in range(nb):\n",
        "  i = int(input(\"Entre un nombre : \"))\n",
        "  n = n + i\n",
        "m = n / nb\n",
        "print(m)"
      ],
      "execution_count": 19,
      "outputs": [
        {
          "output_type": "stream",
          "text": [
            "Combien de nombres voulez-vous ?\n",
            "2\n",
            "Entre un nombre : 2\n",
            "Entre un nombre : 6\n",
            "4.0\n"
          ],
          "name": "stdout"
        }
      ]
    }
  ]
}