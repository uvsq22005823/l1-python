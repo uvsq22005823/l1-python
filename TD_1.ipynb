{
  "nbformat": 4,
  "nbformat_minor": 0,
  "metadata": {
    "colab": {
      "name": "TD 1.ipynb",
      "provenance": [],
      "collapsed_sections": [],
      "authorship_tag": "ABX9TyMjuFbAg4YBsOwDZ7WDa9MF",
      "include_colab_link": true
    },
    "kernelspec": {
      "name": "python3",
      "display_name": "Python 3"
    }
  },
  "cells": [
    {
      "cell_type": "markdown",
      "metadata": {
        "id": "view-in-github",
        "colab_type": "text"
      },
      "source": [
        "<a href=\"https://colab.research.google.com/github/uvsq22005823/l1-python/blob/master/TD_1.ipynb\" target=\"_parent\"><img src=\"https://colab.research.google.com/assets/colab-badge.svg\" alt=\"Open In Colab\"/></a>"
      ]
    },
    {
      "cell_type": "code",
      "metadata": {
        "id": "G9vx8U3QeBAe"
      },
      "source": [
        "a = 1+1"
      ],
      "execution_count": null,
      "outputs": []
    },
    {
      "cell_type": "code",
      "metadata": {
        "id": "pVgpVuv1fOin"
      },
      "source": [
        "a"
      ],
      "execution_count": null,
      "outputs": []
    },
    {
      "cell_type": "code",
      "metadata": {
        "id": "WtEwX6ojfPbo"
      },
      "source": [
        "print(a)"
      ],
      "execution_count": null,
      "outputs": []
    },
    {
      "cell_type": "code",
      "metadata": {
        "id": "OJ4-7ukjfRWO"
      },
      "source": [
        "a = a + 1"
      ],
      "execution_count": null,
      "outputs": []
    },
    {
      "cell_type": "code",
      "metadata": {
        "id": "8YolrIAbfUuN",
        "outputId": "c9d9ff1b-caba-4bff-9c77-4352588ca5c9",
        "colab": {
          "base_uri": "https://localhost:8080/",
          "height": 36
        }
      },
      "source": [
        "print(a)"
      ],
      "execution_count": null,
      "outputs": [
        {
          "output_type": "stream",
          "text": [
            "4\n"
          ],
          "name": "stdout"
        }
      ]
    },
    {
      "cell_type": "code",
      "metadata": {
        "id": "x6f0CtvyfqCO",
        "outputId": "dc14a18b-82d6-4316-8ab4-ba13522102cf",
        "colab": {
          "base_uri": "https://localhost:8080/",
          "height": 36
        }
      },
      "source": [
        "a = 5\n",
        "b = 2\n",
        "print(a, b)"
      ],
      "execution_count": null,
      "outputs": [
        {
          "output_type": "stream",
          "text": [
            "5 2\n"
          ],
          "name": "stdout"
        }
      ]
    },
    {
      "cell_type": "code",
      "metadata": {
        "id": "wTXWRn7qfu1F",
        "outputId": "618caf35-960a-41d8-e130-e675f87fb8e5",
        "colab": {
          "base_uri": "https://localhost:8080/",
          "height": 36
        }
      },
      "source": [
        "a, b = b, a\n",
        "print(a, b)"
      ],
      "execution_count": 11,
      "outputs": [
        {
          "output_type": "stream",
          "text": [
            "2 5\n"
          ],
          "name": "stdout"
        }
      ]
    },
    {
      "cell_type": "code",
      "metadata": {
        "id": "5nUq6XkXf9oF",
        "outputId": "3d1130c4-8580-42b1-9513-6022da415bae",
        "colab": {
          "base_uri": "https://localhost:8080/",
          "height": 36
        }
      },
      "source": [
        "print(\"a vaut\", a, \"et b vaut\", b)"
      ],
      "execution_count": 12,
      "outputs": [
        {
          "output_type": "stream",
          "text": [
            "a vaut 2 et b vaut 5\n"
          ],
          "name": "stdout"
        }
      ]
    },
    {
      "cell_type": "code",
      "metadata": {
        "id": "vZltRnMbgAd8",
        "outputId": "fd17562f-01c8-4396-f07e-a816c486d622",
        "colab": {
          "base_uri": "https://localhost:8080/",
          "height": 36
        }
      },
      "source": [
        "a = \"hello world\"\n",
        "print(a)"
      ],
      "execution_count": 13,
      "outputs": [
        {
          "output_type": "stream",
          "text": [
            "hello world\n"
          ],
          "name": "stdout"
        }
      ]
    },
    {
      "cell_type": "code",
      "metadata": {
        "id": "H5YegQbFgFSV",
        "outputId": "465235bf-8ec0-49fc-83f5-3732728aab13",
        "colab": {
          "base_uri": "https://localhost:8080/",
          "height": 37
        }
      },
      "source": [
        "a"
      ],
      "execution_count": 14,
      "outputs": [
        {
          "output_type": "execute_result",
          "data": {
            "application/vnd.google.colaboratory.intrinsic+json": {
              "type": "string"
            },
            "text/plain": [
              "'hello world'"
            ]
          },
          "metadata": {
            "tags": []
          },
          "execution_count": 14
        }
      ]
    },
    {
      "cell_type": "code",
      "metadata": {
        "id": "WrAtbwvOgVW4",
        "outputId": "27841e74-e8b1-4ff0-e6d2-1d745919b852",
        "colab": {
          "base_uri": "https://localhost:8080/",
          "height": 36
        }
      },
      "source": [
        "type({5,2})"
      ],
      "execution_count": 25,
      "outputs": [
        {
          "output_type": "execute_result",
          "data": {
            "text/plain": [
              "set"
            ]
          },
          "metadata": {
            "tags": []
          },
          "execution_count": 25
        }
      ]
    },
    {
      "cell_type": "code",
      "metadata": {
        "id": "mbkIDdN4g1ig",
        "outputId": "79c829da-d864-4933-9ab4-c5f9d3cc4c7d",
        "colab": {
          "base_uri": "https://localhost:8080/",
          "height": 36
        }
      },
      "source": [
        "x = 2\n",
        "if type(x) == int:\n",
        "  print(\"le type de x est <class 'int'>\")"
      ],
      "execution_count": 35,
      "outputs": [
        {
          "output_type": "stream",
          "text": [
            "le type de x est <class 'int'>\n"
          ],
          "name": "stdout"
        }
      ]
    },
    {
      "cell_type": "code",
      "metadata": {
        "id": "H69Vo-n_h475",
        "outputId": "60a0d3d6-6500-41b5-911b-7ea6e4e4a264",
        "colab": {
          "base_uri": "https://localhost:8080/",
          "height": 36
        }
      },
      "source": [
        "v = 149\n",
        "r = v%11\n",
        "q = v//11\n",
        "print(v, \"=\", q, \"x\", 11, \"+\", r)"
      ],
      "execution_count": 36,
      "outputs": [
        {
          "output_type": "stream",
          "text": [
            "149 = 13 x 11 + 6\n"
          ],
          "name": "stdout"
        }
      ]
    },
    {
      "cell_type": "code",
      "metadata": {
        "id": "eySACU2yiwnc",
        "outputId": "08542653-26c2-417a-d102-4a09eec5da4f",
        "colab": {
          "base_uri": "https://localhost:8080/",
          "height": 36
        }
      },
      "source": [
        "(3 * 10) // 3"
      ],
      "execution_count": 41,
      "outputs": [
        {
          "output_type": "execute_result",
          "data": {
            "text/plain": [
              "10"
            ]
          },
          "metadata": {
            "tags": []
          },
          "execution_count": 41
        }
      ]
    },
    {
      "cell_type": "code",
      "metadata": {
        "id": "knZcTxg4jZEa",
        "outputId": "0af19d77-ffde-40d8-9c7e-ee0521fdf3fa",
        "colab": {
          "base_uri": "https://localhost:8080/",
          "height": 36
        }
      },
      "source": [
        "def f(variable):\n",
        "  if variable%2 == 0:\n",
        "    return True\n",
        "  else:\n",
        "    return False\n",
        "f(41.3)"
      ],
      "execution_count": 44,
      "outputs": [
        {
          "output_type": "execute_result",
          "data": {
            "text/plain": [
              "False"
            ]
          },
          "metadata": {
            "tags": []
          },
          "execution_count": 44
        }
      ]
    },
    {
      "cell_type": "code",
      "metadata": {
        "id": "gr1C8DymkGdW",
        "outputId": "92b17937-9fb2-4dfe-a9a8-6de393e2adc4",
        "colab": {
          "base_uri": "https://localhost:8080/",
          "height": 36
        }
      },
      "source": [
        "a = 2 ** 256\n",
        "a = str(a)\n",
        "len(a)"
      ],
      "execution_count": 46,
      "outputs": [
        {
          "output_type": "execute_result",
          "data": {
            "text/plain": [
              "78"
            ]
          },
          "metadata": {
            "tags": []
          },
          "execution_count": 46
        }
      ]
    },
    {
      "cell_type": "code",
      "metadata": {
        "id": "LwSPqEiVkfwk",
        "outputId": "a735798d-c23c-4db6-e73a-8da7e5528225",
        "colab": {
          "base_uri": "https://localhost:8080/",
          "height": 36
        }
      },
      "source": [
        "a = 749854\n",
        "b = []\n",
        "b.append(a)\n",
        "print(b[-1])"
      ],
      "execution_count": 59,
      "outputs": [
        {
          "output_type": "stream",
          "text": [
            "749854\n"
          ],
          "name": "stdout"
        }
      ]
    },
    {
      "cell_type": "code",
      "metadata": {
        "id": "1tJE_PbZm3d5",
        "outputId": "e0886d9b-5b8b-464a-c587-5946af9da9a3",
        "colab": {
          "base_uri": "https://localhost:8080/",
          "height": 36
        }
      },
      "source": [
        "x = 1.0\n",
        "x = int(x * (2 ** 30))\n",
        "x = x / (2 ** 30)\n",
        "print(x)"
      ],
      "execution_count": 64,
      "outputs": [
        {
          "output_type": "stream",
          "text": [
            "1.0\n"
          ],
          "name": "stdout"
        }
      ]
    },
    {
      "cell_type": "code",
      "metadata": {
        "id": "Rl-JlBfLnlWB",
        "outputId": "db210b40-0766-4225-dd5f-9d7da6889147",
        "colab": {
          "base_uri": "https://localhost:8080/",
          "height": 55
        }
      },
      "source": [
        "a = \"hello\"\n",
        "b = 'world'\n",
        "print((a + b) * 2)\n"
      ],
      "execution_count": 71,
      "outputs": [
        {
          "output_type": "stream",
          "text": [
            "helloworldhelloworld\n",
            "hello\n"
          ],
          "name": "stdout"
        }
      ]
    },
    {
      "cell_type": "code",
      "metadata": {
        "id": "xyenhIy5oj6v",
        "outputId": "bd846cf3-17c2-45c6-8434-13f325d1e6b3",
        "colab": {
          "base_uri": "https://localhost:8080/",
          "height": 36
        }
      },
      "source": [
        "a = \"patate\"\n",
        "a = a.upper()\n",
        "print(a)"
      ],
      "execution_count": 73,
      "outputs": [
        {
          "output_type": "stream",
          "text": [
            "PATATE\n"
          ],
          "name": "stdout"
        }
      ]
    },
    {
      "cell_type": "code",
      "metadata": {
        "id": "XKl8tkzjoxY-",
        "outputId": "b2841840-c812-4162-83d0-8ab7ab79313a",
        "colab": {
          "base_uri": "https://localhost:8080/",
          "height": 36
        }
      },
      "source": [
        "a = \"32\"\n",
        "a = int(a)\n",
        "print(a * 2)"
      ],
      "execution_count": 75,
      "outputs": [
        {
          "output_type": "stream",
          "text": [
            "64\n"
          ],
          "name": "stdout"
        }
      ]
    },
    {
      "cell_type": "code",
      "metadata": {
        "id": "pLMGfN0fo-g6",
        "outputId": "fa7a9c06-1879-4093-ad97-53ac152a6814",
        "colab": {
          "base_uri": "https://localhost:8080/",
          "height": 55
        }
      },
      "source": [
        "s = input(\"Merci de bien vouloirn écrire quelque chose ici : \")\n",
        "print(s)"
      ],
      "execution_count": 78,
      "outputs": [
        {
          "output_type": "stream",
          "text": [
            "Merci de bien vouloirn écrire quelque chose ici : coucou\n",
            "coucou\n"
          ],
          "name": "stdout"
        }
      ]
    },
    {
      "cell_type": "code",
      "metadata": {
        "id": "rcJb2DgUpe8B",
        "outputId": "2e1f1791-37a5-481b-f000-5bc16970d6e1",
        "colab": {
          "base_uri": "https://localhost:8080/",
          "height": 55
        }
      },
      "source": [
        "s = input(\"Merci de bien vouloirn écrire un entier ici : \")\n",
        "s = int(s)\n",
        "s = s * 2\n",
        "print(s)"
      ],
      "execution_count": 82,
      "outputs": [
        {
          "output_type": "stream",
          "text": [
            "Merci de bien vouloirn écrire un entier ici : 32\n",
            "64\n"
          ],
          "name": "stdout"
        }
      ]
    },
    {
      "cell_type": "code",
      "metadata": {
        "id": "jT5Bv0OrqKwu",
        "outputId": "6fbdb73f-1c0e-4e65-aec2-9f4fcb2377a1",
        "colab": {
          "base_uri": "https://localhost:8080/",
          "height": 55
        }
      },
      "source": [
        "s = input(\"Merci de bien renseigner votre âge ici : \")\n",
        "s = int(s)\n",
        "s = s + (2031 - 2020)\n",
        "print(\"Vous aurez théoriquement\", s, \"ans en 2031 :p\")"
      ],
      "execution_count": 84,
      "outputs": [
        {
          "output_type": "stream",
          "text": [
            "Merci de bien renseigner votre âge ici : 18\n",
            "Vous aurez théoriquement 29 en 2031 :p\n"
          ],
          "name": "stdout"
        }
      ]
    },
    {
      "cell_type": "code",
      "metadata": {
        "id": "ROM4KQyyq4f2",
        "outputId": "7da0d8e1-5ed8-4f40-90dc-f32b292fe307",
        "colab": {
          "base_uri": "https://localhost:8080/",
          "height": 55
        }
      },
      "source": [
        "from math import *\n",
        "nb = input(\"Entrez un nombre : \")\n",
        "nb = float(nb)\n",
        "ra = sqrt(nb)\n",
        "print(\"La racine carrée de\", nb, \"est\", ra)"
      ],
      "execution_count": 86,
      "outputs": [
        {
          "output_type": "stream",
          "text": [
            "Entrez un nombre :16\n",
            "La racine carrée de 16.0 est 4.0\n"
          ],
          "name": "stdout"
        }
      ]
    },
    {
      "cell_type": "code",
      "metadata": {
        "id": "_5PEbPcar5DJ",
        "outputId": "f14b9e5e-0a66-4e2e-dfe3-567cf52595df",
        "colab": {
          "base_uri": "https://localhost:8080/",
          "height": 1000
        }
      },
      "source": [
        "a = \"a\"\n",
        "cha = a*255\n",
        "print(cha)\n",
        "b = \"b\"\n",
        "chb = b * 250 + a\n",
        "print(chb)\n",
        "chc = b * 250 + a + b * 100\n",
        "print(chb)\n",
        "c = 0\n",
        "#for i in range(50):\n",
        "#  c = c + 1\n",
        "#  print(\"bonjour\")\n",
        "#print(c)\n",
        "bonjour = \"bonjour\\n\"\n",
        "chbon = bonjour * 50\n",
        "print(chbon)"
      ],
      "execution_count": 93,
      "outputs": [
        {
          "output_type": "stream",
          "text": [
            "aaaaaaaaaaaaaaaaaaaaaaaaaaaaaaaaaaaaaaaaaaaaaaaaaaaaaaaaaaaaaaaaaaaaaaaaaaaaaaaaaaaaaaaaaaaaaaaaaaaaaaaaaaaaaaaaaaaaaaaaaaaaaaaaaaaaaaaaaaaaaaaaaaaaaaaaaaaaaaaaaaaaaaaaaaaaaaaaaaaaaaaaaaaaaaaaaaaaaaaaaaaaaaaaaaaaaaaaaaaaaaaaaaaaaaaaaaaaaaaaaaaaaaaaaaaaaaa\n",
            "bbbbbbbbbbbbbbbbbbbbbbbbbbbbbbbbbbbbbbbbbbbbbbbbbbbbbbbbbbbbbbbbbbbbbbbbbbbbbbbbbbbbbbbbbbbbbbbbbbbbbbbbbbbbbbbbbbbbbbbbbbbbbbbbbbbbbbbbbbbbbbbbbbbbbbbbbbbbbbbbbbbbbbbbbbbbbbbbbbbbbbbbbbbbbbbbbbbbbbbbbbbbbbbbbbbbbbbbbbbbbbbbbbbbbbbbbbbbbbbbbbbbbbbbbba\n",
            "bbbbbbbbbbbbbbbbbbbbbbbbbbbbbbbbbbbbbbbbbbbbbbbbbbbbbbbbbbbbbbbbbbbbbbbbbbbbbbbbbbbbbbbbbbbbbbbbbbbbbbbbbbbbbbbbbbbbbbbbbbbbbbbbbbbbbbbbbbbbbbbbbbbbbbbbbbbbbbbbbbbbbbbbbbbbbbbbbbbbbbbbbbbbbbbbbbbbbbbbbbbbbbbbbbbbbbbbbbbbbbbbbbbbbbbbbbbbbbbbbbbbbbbbbba\n",
            "bonjour\n",
            "bonjour\n",
            "bonjour\n",
            "bonjour\n",
            "bonjour\n",
            "bonjour\n",
            "bonjour\n",
            "bonjour\n",
            "bonjour\n",
            "bonjour\n",
            "bonjour\n",
            "bonjour\n",
            "bonjour\n",
            "bonjour\n",
            "bonjour\n",
            "bonjour\n",
            "bonjour\n",
            "bonjour\n",
            "bonjour\n",
            "bonjour\n",
            "bonjour\n",
            "bonjour\n",
            "bonjour\n",
            "bonjour\n",
            "bonjour\n",
            "bonjour\n",
            "bonjour\n",
            "bonjour\n",
            "bonjour\n",
            "bonjour\n",
            "bonjour\n",
            "bonjour\n",
            "bonjour\n",
            "bonjour\n",
            "bonjour\n",
            "bonjour\n",
            "bonjour\n",
            "bonjour\n",
            "bonjour\n",
            "bonjour\n",
            "bonjour\n",
            "bonjour\n",
            "bonjour\n",
            "bonjour\n",
            "bonjour\n",
            "bonjour\n",
            "bonjour\n",
            "bonjour\n",
            "bonjour\n",
            "bonjour\n",
            "\n"
          ],
          "name": "stdout"
        }
      ]
    }
  ]
}